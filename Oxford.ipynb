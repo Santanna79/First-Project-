{
  "nbformat": 4,
  "nbformat_minor": 0,
  "metadata": {
    "colab": {
      "provenance": [],
      "authorship_tag": "ABX9TyOZAMca9xeSSo6D9w9GDPtD",
      "include_colab_link": true
    },
    "kernelspec": {
      "name": "python3",
      "display_name": "Python 3"
    },
    "language_info": {
      "name": "python"
    }
  },
  "cells": [
    {
      "cell_type": "markdown",
      "metadata": {
        "id": "view-in-github",
        "colab_type": "text"
      },
      "source": [
        "<a href=\"https://colab.research.google.com/github/Santanna79/First-Project-/blob/main/Oxford.ipynb\" target=\"_parent\"><img src=\"https://colab.research.google.com/assets/colab-badge.svg\" alt=\"Open In Colab\"/></a>"
      ]
    },
    {
      "cell_type": "code",
      "execution_count": null,
      "metadata": {
        "colab": {
          "base_uri": "https://localhost:8080/"
        },
        "id": "wgmwE_dSQqnZ",
        "outputId": "7d831eeb-b3b2-4a6b-a81a-3b0ef93f5349"
      },
      "outputs": [
        {
          "output_type": "stream",
          "name": "stdout",
          "text": [
            "O banco de dados tem apenas 11 perguntas. Ajustando para usar todas as perguntas disponíveis.\n",
            "\n",
            "Pergunta 1: Quem é o filósofo mais importante em Belas?\n",
            "1) Bubu\n",
            "2) Joanna\n",
            "3) Imperador Nélson\n",
            "4) A da Fisioterapia\n",
            "Sua resposta (1-4): 2\n",
            "Incorreto. A resposta correta é: Imperador Nélson\n",
            "\n",
            "Pergunta 2: Quem escreveu 'O Contrato Social'?\n",
            "1) Jean-Jacques Rousseau\n",
            "2) Thomas Hobbes\n",
            "3) John Locke\n",
            "4) Montesquieu\n"
          ]
        }
      ],
      "source": [
        "import random\n",
        "\n",
        "# Banco de dados de perguntas\n",
        "questions = [\n",
        "    {\n",
        "        'question': \"Quem escreveu 'A República'?\",\n",
        "        'options': ['Platão', 'Aristóteles', 'Sócrates', 'Descartes'],\n",
        "        'answer': 0  # índice da resposta correta\n",
        "    },\n",
        "    {\n",
        "        'question': \"Qual filósofo é conhecido por dizer 'Penso, logo existo'?\",\n",
        "        'options': ['René Descartes', 'Immanuel Kant', 'Friedrich Nietzsche', 'John Locke'],\n",
        "        'answer': 0\n",
        "    },\n",
        "    {\n",
        "        'question': \"Qual é o principal conceito associado a Immanuel Kant?\",\n",
        "        'options': ['Imperativo Categórico', 'Dialética Hegeliana', 'Vontade de Poder', 'Contrato Social'],\n",
        "        'answer': 0\n",
        "    },\n",
        "    {\n",
        "        'question': \"Quem é considerado o pai da filosofia ocidental?\",\n",
        "        'options': ['Sócrates', 'Platão', 'Tales de Mileto', 'Aristóteles'],\n",
        "        'answer': 0\n",
        "    },\n",
        "    {\n",
        "        'question': \"Qual filósofo escreveu 'Além do Bem e do Mal'?\",\n",
        "        'options': ['Friedrich Nietzsche', 'Søren Kierkegaard', 'Jean-Paul Sartre', 'Arthur Schopenhauer'],\n",
        "        'answer': 0\n",
        "    },\n",
        "    {\n",
        "        'question': \"Qual conceito é central na filosofia de Karl Marx?\",\n",
        "        'options': ['Materialismo Histórico', 'Empirismo', 'Existencialismo', 'Racionalismo'],\n",
        "        'answer': 0\n",
        "    },\n",
        "    {\n",
        "        'question': \"Quem escreveu 'O Contrato Social'?\",\n",
        "        'options': ['Jean-Jacques Rousseau', 'Thomas Hobbes', 'John Locke', 'Montesquieu'],\n",
        "        'answer': 0\n",
        "    },\n",
        "    {\n",
        "        'question': \"Qual filósofo é conhecido pela alegoria da caverna?\",\n",
        "        'options': ['Platão', 'Aristóteles', 'Sócrates', 'Heráclito'],\n",
        "        'answer': 0\n",
        "    },\n",
        "    {\n",
        "        'question': \"Quem introduziu o conceito de 'tabula rasa'?\",\n",
        "        'options': ['John Locke', 'David Hume', 'René Descartes', 'Francis Bacon'],\n",
        "        'answer': 0\n",
        "    },\n",
        "    {\n",
        "        'question': \"Qual filósofo propôs a teoria do 'eterno retorno'?\",\n",
        "        'options': ['Friedrich Nietzsche', 'Martin Heidegger', 'Jean-Paul Sartre', 'Immanuel Kant'],\n",
        "        'answer': 0\n",
        "    },\n",
        "    # ... (adicione mais perguntas aqui até chegar a 300)\n",
        "    {\n",
        "        'question': \"Quem é o filósofo mais importante em Belas?\",\n",
        "        'options': ['Bubu', 'Joanna', 'Imperador Nélson', 'A da Fisioterapia'],\n",
        "        'answer':2  # 0 para a primeira opção, 1 para a segunda, etc.\n",
        "},\n",
        "\n",
        "]\n",
        "\n",
        "# Defina o número de perguntas a serem selecionadas\n",
        "NUM_PERGUNTAS = 20\n",
        "\n",
        "if len(questions) < NUM_PERGUNTAS:\n",
        "    print(f\"O banco de dados tem apenas {len(questions)} perguntas. Ajustando para usar todas as perguntas disponíveis.\")\n",
        "    NUM_PERGUNTAS = len(questions)\n",
        "\n",
        "# Seleciona as perguntas\n",
        "selected_questions = random.sample(questions, NUM_PERGUNTAS)\n",
        "\n",
        "score = 0\n",
        "\n",
        "for idx, q in enumerate(selected_questions):\n",
        "    print(f\"\\nPergunta {idx + 1}: {q['question']}\")\n",
        "    for i, option in enumerate(q['options']):\n",
        "        print(f\"{i + 1}) {option}\")\n",
        "    while True:\n",
        "        try:\n",
        "            answer = int(input(\"Sua resposta (1-4): \")) - 1\n",
        "            if 0 <= answer < 4:\n",
        "                break\n",
        "            else:\n",
        "                print(\"Por favor, insira um número entre 1 e 4.\")\n",
        "        except ValueError:\n",
        "            print(\"Entrada inválida. Por favor, insira um número.\")\n",
        "    if answer == q['answer']:\n",
        "        print(\"Correto!\")\n",
        "        score += 1\n",
        "    else:\n",
        "        correct_option = q['options'][q['answer']]\n",
        "        print(f\"Incorreto. A resposta correta é: {correct_option}\")\n",
        "\n",
        "print(f\"\\nVocê acertou {score} de {len(selected_questions)} perguntas.\")\n"
      ]
    }
  ]
}