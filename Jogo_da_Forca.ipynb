{
  "nbformat": 4,
  "nbformat_minor": 0,
  "metadata": {
    "colab": {
      "provenance": [],
      "authorship_tag": "ABX9TyMLOMSr8oHqfch3Seppnh0L",
      "include_colab_link": true
    },
    "kernelspec": {
      "name": "python3",
      "display_name": "Python 3"
    },
    "language_info": {
      "name": "python"
    }
  },
  "cells": [
    {
      "cell_type": "markdown",
      "metadata": {
        "id": "view-in-github",
        "colab_type": "text"
      },
      "source": [
        "<a href=\"https://colab.research.google.com/github/Santanna79/First-Project-/blob/main/Jogo_da_Forca.ipynb\" target=\"_parent\"><img src=\"https://colab.research.google.com/assets/colab-badge.svg\" alt=\"Open In Colab\"/></a>"
      ]
    },
    {
      "cell_type": "code",
      "execution_count": null,
      "metadata": {
        "colab": {
          "base_uri": "https://localhost:8080/"
        },
        "id": "Q7UgIKBAJi7t",
        "outputId": "46007293-eb3d-4646-f9f3-396d32bd81da"
      },
      "outputs": [
        {
          "output_type": "stream",
          "name": "stdout",
          "text": [
            "Bem-vindo ao jogo da Forca!\n",
            "\n",
            "Você tem 6 vidas restantes e já usou estas letras: \n",
            "Palavra:  _ _ _ _ _ _ _ _ _ _ _\n",
            "Adivinhe uma letra: i\n",
            "A letra \"i\" não está na palavra.\n",
            "\n",
            "Você tem 5 vidas restantes e já usou estas letras: i\n",
            "Palavra:  _ _ _ _ _ _ _ _ _ _ _\n",
            "Adivinhe uma letra: po\n",
            "Caracter inválido. Tente novamente.\n",
            "\n",
            "Você tem 5 vidas restantes e já usou estas letras: i\n",
            "Palavra:  _ _ _ _ _ _ _ _ _ _ _\n",
            "Adivinhe uma letra: t\n",
            "A letra \"t\" não está na palavra.\n",
            "\n",
            "Você tem 4 vidas restantes e já usou estas letras: t i\n",
            "Palavra:  _ _ _ _ _ _ _ _ _ _ _\n",
            "Adivinhe uma letra: d\n",
            "A letra \"d\" não está na palavra.\n",
            "\n",
            "Você tem 3 vidas restantes e já usou estas letras: t d i\n",
            "Palavra:  _ _ _ _ _ _ _ _ _ _ _\n",
            "Adivinhe uma letra: f\n",
            "A letra \"f\" não está na palavra.\n",
            "\n",
            "Você tem 2 vidas restantes e já usou estas letras: f t d i\n",
            "Palavra:  _ _ _ _ _ _ _ _ _ _ _\n",
            "Adivinhe uma letra: c\n",
            "Boa! A letra \"c\" está na palavra.\n",
            "\n",
            "Você tem 2 vidas restantes e já usou estas letras: t c i f d\n",
            "Palavra:  _ _ _ _ _ _ _ _ c _ _\n",
            "Adivinhe uma letra: a\n",
            "Boa! A letra \"a\" está na palavra.\n",
            "\n",
            "Você tem 2 vidas restantes e já usou estas letras: t c i a f d\n",
            "Palavra:  _ _ _ _ _ a _ a c a _\n",
            "Adivinhe uma letra: o\n",
            "Boa! A letra \"o\" está na palavra.\n",
            "\n",
            "Você tem 2 vidas restantes e já usou estas letras: o t c i a f d\n",
            "Palavra:  _ _ o _ _ a _ a c a o\n",
            "Adivinhe uma letra: r\n",
            "Boa! A letra \"r\" está na palavra.\n",
            "\n",
            "Você tem 2 vidas restantes e já usou estas letras: o t c i a f d r\n",
            "Palavra:  _ r o _ r a _ a c a o\n",
            "Adivinhe uma letra: v\n",
            "A letra \"v\" não está na palavra.\n",
            "\n",
            "Você tem 1 vidas restantes e já usou estas letras: o t c i v a f d r\n",
            "Palavra:  _ r o _ r a _ a c a o\n",
            "Adivinhe uma letra: p\n",
            "Boa! A letra \"p\" está na palavra.\n",
            "\n",
            "Você tem 1 vidas restantes e já usou estas letras: o t c i p v a f d r\n",
            "Palavra:  p r o _ r a _ a c a o\n",
            "Adivinhe uma letra: g\n",
            "Boa! A letra \"g\" está na palavra.\n",
            "\n",
            "Você tem 1 vidas restantes e já usou estas letras: o t c i p v a g f d r\n",
            "Palavra:  p r o g r a _ a c a o\n",
            "Adivinhe uma letra: m\n",
            "Boa! A letra \"m\" está na palavra.\n",
            "\n",
            "Parabéns! Você adivinhou a palavra \"programacao\"!\n"
          ]
        }
      ],
      "source": [
        "import random\n",
        "\n",
        "# Lista de palavras para o jogo\n",
        "palavras = ['python', 'google', 'colab', 'programacao', 'dados', 'inteligencia', 'artificial', 'computador']\n",
        "\n",
        "def jogar_forca():\n",
        "    palavra = random.choice(palavras)\n",
        "    letras_palavra = set(palavra)\n",
        "    alfabeto = set('abcdefghijklmnopqrstuvwxyzçáéíóúàèìòùâêîôûãõ')\n",
        "    letras_usadas = set()\n",
        "    vidas = 6\n",
        "\n",
        "    print('Bem-vindo ao jogo da Forca!')\n",
        "\n",
        "    while len(letras_palavra) > 0 and vidas > 0:\n",
        "        print(f'\\nVocê tem {vidas} vidas restantes e já usou estas letras: {\" \".join(letras_usadas)}')\n",
        "\n",
        "        # Mostra o status atual da palavra\n",
        "        palavra_lista = [letra if letra in letras_usadas else '_' for letra in palavra]\n",
        "        print('Palavra: ', ' '.join(palavra_lista))\n",
        "\n",
        "        # Solicita uma letra ao usuário\n",
        "        letra_usuario = input('Adivinhe uma letra: ').lower()\n",
        "\n",
        "        if letra_usuario in alfabeto - letras_usadas:\n",
        "            letras_usadas.add(letra_usuario)\n",
        "            if letra_usuario in letras_palavra:\n",
        "                letras_palavra.remove(letra_usuario)\n",
        "                print(f'Boa! A letra \"{letra_usuario}\" está na palavra.')\n",
        "            else:\n",
        "                vidas -= 1\n",
        "                print(f'A letra \"{letra_usuario}\" não está na palavra.')\n",
        "        elif letra_usuario in letras_usadas:\n",
        "            print('Você já usou essa letra. Tente outra.')\n",
        "        else:\n",
        "            print('Caracter inválido. Tente novamente.')\n",
        "\n",
        "    if vidas == 0:\n",
        "        print(f'\\nVocê perdeu! A palavra era \"{palavra}\".')\n",
        "    else:\n",
        "        print(f'\\nParabéns! Você adivinhou a palavra \"{palavra}\"!')\n",
        "\n",
        "jogar_forca()\n",
        "\n"
      ]
    },
    {
      "cell_type": "markdown",
      "source": [
        "# Nova secção"
      ],
      "metadata": {
        "id": "01oODVmCLJvE"
      }
    }
  ]
}